{
 "cells": [
  {
   "cell_type": "markdown",
   "id": "d2102c86-b4ac-4ff1-9fb7-4881bc16c1da",
   "metadata": {},
   "source": [
    "# given list of tuples"
   ]
  },
  {
   "cell_type": "code",
   "execution_count": 1,
   "id": "cb304f51-59b0-4400-82ce-c217c0d577b9",
   "metadata": {},
   "outputs": [],
   "source": [
    "data = [(\"sachin tendulkar\",34357),(\"ricky ponting\",27483),(\"jack kallis\",25534),(\"virat kohli\",24936)]"
   ]
  },
  {
   "cell_type": "markdown",
   "id": "de9c49bc-b137-4b6d-abc2-3f037d2debd2",
   "metadata": {},
   "source": [
    "#sort the list based on the integer value using a lambda function"
   ]
  },
  {
   "cell_type": "code",
   "execution_count": 2,
   "id": "ff820d49-53d7-4650-b81f-d139cfa90d4c",
   "metadata": {},
   "outputs": [],
   "source": [
    "sorted_data = sorted(data,key=lambda x:x[1])"
   ]
  },
  {
   "cell_type": "code",
   "execution_count": 3,
   "id": "d90b5c9b-1595-4ece-ae52-5c75d0ec7e4a",
   "metadata": {},
   "outputs": [
    {
     "name": "stdout",
     "output_type": "stream",
     "text": [
      "[('virat kohli', 24936), ('jack kallis', 25534), ('ricky ponting', 27483), ('sachin tendulkar', 34357)]\n"
     ]
    }
   ],
   "source": [
    "print(sorted_data)"
   ]
  },
  {
   "cell_type": "code",
   "execution_count": 4,
   "id": "6fd90b37-e59a-435b-a406-aa062b913fdf",
   "metadata": {},
   "outputs": [],
   "source": [
    "numbers = [1,2,3,4,5,6,7,8,9,10]"
   ]
  },
  {
   "cell_type": "code",
   "execution_count": 5,
   "id": "cb29ed3f-f7e0-4f56-b115-f5e39b463bce",
   "metadata": {},
   "outputs": [],
   "source": [
    "squares = list(map(lambda x:x**2,numbers))"
   ]
  },
  {
   "cell_type": "code",
   "execution_count": 6,
   "id": "72808757-39a9-4f9a-bd96-7c29632b0438",
   "metadata": {},
   "outputs": [
    {
     "name": "stdout",
     "output_type": "stream",
     "text": [
      "orginal numbers: [1, 2, 3, 4, 5, 6, 7, 8, 9, 10]\n"
     ]
    }
   ],
   "source": [
    "print(\"orginal numbers:\",numbers)"
   ]
  },
  {
   "cell_type": "code",
   "execution_count": 7,
   "id": "cd4f45d5-d12d-4a0c-a9a1-f419d670b498",
   "metadata": {},
   "outputs": [
    {
     "name": "stdout",
     "output_type": "stream",
     "text": [
      "squares of numbers: [1, 4, 9, 16, 25, 36, 49, 64, 81, 100]\n"
     ]
    }
   ],
   "source": [
    "print(\"squares of numbers:\",squares)"
   ]
  },
  {
   "cell_type": "code",
   "execution_count": 8,
   "id": "c5f3a091-289c-48a5-82b0-1e6b62df758c",
   "metadata": {},
   "outputs": [],
   "source": [
    "input_list = [1,2,3,4,5,6,7,8,9,10]"
   ]
  },
  {
   "cell_type": "code",
   "execution_count": 9,
   "id": "99a0fd3f-6dba-4e39-bccb-2e620c81dd95",
   "metadata": {},
   "outputs": [],
   "source": [
    "output_tuple = tuple(map(lambda x:str(x),input_list))"
   ]
  },
  {
   "cell_type": "code",
   "execution_count": 10,
   "id": "b8a0f3bd-6d21-4de1-a988-246e27a954bf",
   "metadata": {},
   "outputs": [
    {
     "name": "stdout",
     "output_type": "stream",
     "text": [
      "1 2 3 4 5 6 7 8 9 10\n"
     ]
    }
   ],
   "source": [
    "print(\" \".join(output_tuple))"
   ]
  },
  {
   "cell_type": "code",
   "execution_count": 15,
   "id": "5b45e215-3555-4184-abbb-23ed4927a4f3",
   "metadata": {},
   "outputs": [],
   "source": [
    "numbers_list = list(range(1,26))"
   ]
  },
  {
   "cell_type": "code",
   "execution_count": 17,
   "id": "38f384cb-e406-4339-a1fe-fd8605480c5e",
   "metadata": {},
   "outputs": [],
   "source": [
    "#use reduce to compute the product of the list "
   ]
  },
  {
   "cell_type": "code",
   "execution_count": 19,
   "id": "0e03093f-5b39-418c-9b5f-82b46155d69c",
   "metadata": {},
   "outputs": [],
   "source": [
    "product_result = reduce = (lambda x,y:x*y,number_list)"
   ]
  },
  {
   "cell_type": "code",
   "execution_count": 20,
   "id": "b8785cdf-ce6c-4475-8644-33595839720c",
   "metadata": {},
   "outputs": [
    {
     "name": "stdout",
     "output_type": "stream",
     "text": [
      "product of number from 1 to 25: (<function <lambda> at 0x7fd4fc68bc70>, [1, 2, 3, 4, 5, 6, 7, 8, 9, 10, 11, 12, 13, 14, 15, 16, 17, 18, 19, 20, 21, 22, 23, 24, 25])\n"
     ]
    }
   ],
   "source": [
    "print(\"product of number from 1 to 25:\",product_result)"
   ]
  },
  {
   "cell_type": "code",
   "execution_count": 21,
   "id": "a541f390-f806-47e3-b1a3-aeb5025a63fc",
   "metadata": {},
   "outputs": [],
   "source": [
    "number_list = [1,2,3,4,5,6,7,8,9,10.11,12,13,14,15]"
   ]
  },
  {
   "cell_type": "code",
   "execution_count": 22,
   "id": "c1686efe-f191-44e8-8520-f74f257f62e5",
   "metadata": {},
   "outputs": [],
   "source": [
    "filtred_numbers = list(filter(lambda x:x % 2 == 0 and x %3 == 0,number_list))"
   ]
  },
  {
   "cell_type": "code",
   "execution_count": 24,
   "id": "a6a039e0-60d4-4219-8718-15f444f8baa4",
   "metadata": {},
   "outputs": [
    {
     "name": "stdout",
     "output_type": "stream",
     "text": [
      "numbers divisible by 2 and 3: [6, 12]\n"
     ]
    }
   ],
   "source": [
    "print(\"numbers divisible by 2 and 3:\",filtred_numbers)"
   ]
  },
  {
   "cell_type": "code",
   "execution_count": 25,
   "id": "a882694e-5386-433d-9bd9-1d56b8f01011",
   "metadata": {},
   "outputs": [],
   "source": [
    "words = [\"python\",\"php\",\"aba\",\"radar\",\"level\"]"
   ]
  },
  {
   "cell_type": "code",
   "execution_count": 27,
   "id": "38461765-aacf-4964-bc4c-254149a8bfc9",
   "metadata": {},
   "outputs": [],
   "source": [
    "is_palindrome = lambda word :word== word[::-1]"
   ]
  },
  {
   "cell_type": "code",
   "execution_count": 31,
   "id": "d9c3f972-d3bd-49a9-9f87-adc67740159a",
   "metadata": {},
   "outputs": [],
   "source": [
    "palindromes = list(filter(is_palindrome,words))"
   ]
  },
  {
   "cell_type": "code",
   "execution_count": null,
   "id": "81ddae91-9f4d-4b4a-bb67-9c94b6c0af7e",
   "metadata": {},
   "outputs": [],
   "source": [
    "print(\"palindromes"
   ]
  }
 ],
 "metadata": {
  "kernelspec": {
   "display_name": "Python 3 (ipykernel)",
   "language": "python",
   "name": "python3"
  },
  "language_info": {
   "codemirror_mode": {
    "name": "ipython",
    "version": 3
   },
   "file_extension": ".py",
   "mimetype": "text/x-python",
   "name": "python",
   "nbconvert_exporter": "python",
   "pygments_lexer": "ipython3",
   "version": "3.10.8"
  }
 },
 "nbformat": 4,
 "nbformat_minor": 5
}
